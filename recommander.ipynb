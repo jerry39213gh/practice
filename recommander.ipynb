{
 "cells": [
  {
   "cell_type": "code",
   "execution_count": 1,
   "metadata": {},
   "outputs": [],
   "source": [
    "import pandas as pd\n",
    "import numpy as np\n",
    "import graphlab\n",
    "content_df = pd.read_table('data/u.data', names = ['user_id', 'item_id', 'target','ts'])\n",
    "del content_df['ts']"
   ]
  },
  {
   "cell_type": "code",
   "execution_count": 2,
   "metadata": {},
   "outputs": [
    {
     "name": "stdout",
     "output_type": "stream",
     "text": [
      "This non-commercial license of GraphLab Create for academic use is assigned to jerry3921366@gmail.com and will expire on December 07, 2018.\n"
     ]
    },
    {
     "name": "stderr",
     "output_type": "stream",
     "text": [
      "[INFO] graphlab.cython.cy_server: GraphLab Create v2.1 started. Logging: /tmp/graphlab_server_1512691956.log\n"
     ]
    },
    {
     "data": {
      "text/html": [
       "<pre>Recsys training: model = factorization_recommender</pre>"
      ],
      "text/plain": [
       "Recsys training: model = factorization_recommender"
      ]
     },
     "metadata": {},
     "output_type": "display_data"
    },
    {
     "data": {
      "text/html": [
       "<pre>Preparing data set.</pre>"
      ],
      "text/plain": [
       "Preparing data set."
      ]
     },
     "metadata": {},
     "output_type": "display_data"
    },
    {
     "data": {
      "text/html": [
       "<pre>    Data has 100000 observations with 943 users and 1682 items.</pre>"
      ],
      "text/plain": [
       "    Data has 100000 observations with 943 users and 1682 items."
      ]
     },
     "metadata": {},
     "output_type": "display_data"
    },
    {
     "data": {
      "text/html": [
       "<pre>    Data prepared in: 0.198737s</pre>"
      ],
      "text/plain": [
       "    Data prepared in: 0.198737s"
      ]
     },
     "metadata": {},
     "output_type": "display_data"
    },
    {
     "data": {
      "text/html": [
       "<pre>Training factorization_recommender for recommendations.</pre>"
      ],
      "text/plain": [
       "Training factorization_recommender for recommendations."
      ]
     },
     "metadata": {},
     "output_type": "display_data"
    },
    {
     "data": {
      "text/html": [
       "<pre>+------------------------------+--------------------------------------------------+----------+</pre>"
      ],
      "text/plain": [
       "+------------------------------+--------------------------------------------------+----------+"
      ]
     },
     "metadata": {},
     "output_type": "display_data"
    },
    {
     "data": {
      "text/html": [
       "<pre>| Parameter                    | Description                                      | Value    |</pre>"
      ],
      "text/plain": [
       "| Parameter                    | Description                                      | Value    |"
      ]
     },
     "metadata": {},
     "output_type": "display_data"
    },
    {
     "data": {
      "text/html": [
       "<pre>+------------------------------+--------------------------------------------------+----------+</pre>"
      ],
      "text/plain": [
       "+------------------------------+--------------------------------------------------+----------+"
      ]
     },
     "metadata": {},
     "output_type": "display_data"
    },
    {
     "data": {
      "text/html": [
       "<pre>| num_factors                  | Factor Dimension                                 | 8        |</pre>"
      ],
      "text/plain": [
       "| num_factors                  | Factor Dimension                                 | 8        |"
      ]
     },
     "metadata": {},
     "output_type": "display_data"
    },
    {
     "data": {
      "text/html": [
       "<pre>| regularization               | L2 Regularization on Factors                     | 1e-08    |</pre>"
      ],
      "text/plain": [
       "| regularization               | L2 Regularization on Factors                     | 1e-08    |"
      ]
     },
     "metadata": {},
     "output_type": "display_data"
    },
    {
     "data": {
      "text/html": [
       "<pre>| max_iterations               | Maximum Number of Iterations                     | 50       |</pre>"
      ],
      "text/plain": [
       "| max_iterations               | Maximum Number of Iterations                     | 50       |"
      ]
     },
     "metadata": {},
     "output_type": "display_data"
    },
    {
     "data": {
      "text/html": [
       "<pre>| solver                       | Solver used for training                         | als      |</pre>"
      ],
      "text/plain": [
       "| solver                       | Solver used for training                         | als      |"
      ]
     },
     "metadata": {},
     "output_type": "display_data"
    },
    {
     "data": {
      "text/html": [
       "<pre>+------------------------------+--------------------------------------------------+----------+</pre>"
      ],
      "text/plain": [
       "+------------------------------+--------------------------------------------------+----------+"
      ]
     },
     "metadata": {},
     "output_type": "display_data"
    },
    {
     "data": {
      "text/html": [
       "<pre>+---------+--------------+------------------------+</pre>"
      ],
      "text/plain": [
       "+---------+--------------+------------------------+"
      ]
     },
     "metadata": {},
     "output_type": "display_data"
    },
    {
     "data": {
      "text/html": [
       "<pre>| Iter.   | Elapsed time | RMSE                   |</pre>"
      ],
      "text/plain": [
       "| Iter.   | Elapsed time | RMSE                   |"
      ]
     },
     "metadata": {},
     "output_type": "display_data"
    },
    {
     "data": {
      "text/html": [
       "<pre>+---------+--------------+------------------------+</pre>"
      ],
      "text/plain": [
       "+---------+--------------+------------------------+"
      ]
     },
     "metadata": {},
     "output_type": "display_data"
    },
    {
     "data": {
      "text/html": [
       "<pre>| Initial | 239us        | NA                     |</pre>"
      ],
      "text/plain": [
       "| Initial | 239us        | NA                     |"
      ]
     },
     "metadata": {},
     "output_type": "display_data"
    },
    {
     "data": {
      "text/html": [
       "<pre>+---------+--------------+------------------------+</pre>"
      ],
      "text/plain": [
       "+---------+--------------+------------------------+"
      ]
     },
     "metadata": {},
     "output_type": "display_data"
    },
    {
     "data": {
      "text/html": [
       "<pre>| 0       | 156.884ms    | 0.973698               |</pre>"
      ],
      "text/plain": [
       "| 0       | 156.884ms    | 0.973698               |"
      ]
     },
     "metadata": {},
     "output_type": "display_data"
    },
    {
     "data": {
      "text/html": [
       "<pre>| 1       | 244.888ms    | 0.819137               |</pre>"
      ],
      "text/plain": [
       "| 1       | 244.888ms    | 0.819137               |"
      ]
     },
     "metadata": {},
     "output_type": "display_data"
    },
    {
     "data": {
      "text/html": [
       "<pre>| 2       | 328.813ms    | 0.780806               |</pre>"
      ],
      "text/plain": [
       "| 2       | 328.813ms    | 0.780806               |"
      ]
     },
     "metadata": {},
     "output_type": "display_data"
    },
    {
     "data": {
      "text/html": [
       "<pre>| 3       | 417.753ms    | 0.765737               |</pre>"
      ],
      "text/plain": [
       "| 3       | 417.753ms    | 0.765737               |"
      ]
     },
     "metadata": {},
     "output_type": "display_data"
    },
    {
     "data": {
      "text/html": [
       "<pre>| 4       | 513.437ms    | 0.757564               |</pre>"
      ],
      "text/plain": [
       "| 4       | 513.437ms    | 0.757564               |"
      ]
     },
     "metadata": {},
     "output_type": "display_data"
    },
    {
     "data": {
      "text/html": [
       "<pre>| 5       | 609.125ms    | 0.752195               |</pre>"
      ],
      "text/plain": [
       "| 5       | 609.125ms    | 0.752195               |"
      ]
     },
     "metadata": {},
     "output_type": "display_data"
    },
    {
     "data": {
      "text/html": [
       "<pre>| 6       | 701.081ms    | 0.748245               |</pre>"
      ],
      "text/plain": [
       "| 6       | 701.081ms    | 0.748245               |"
      ]
     },
     "metadata": {},
     "output_type": "display_data"
    },
    {
     "data": {
      "text/html": [
       "<pre>| 7       | 798.581ms    | 0.745128               |</pre>"
      ],
      "text/plain": [
       "| 7       | 798.581ms    | 0.745128               |"
      ]
     },
     "metadata": {},
     "output_type": "display_data"
    },
    {
     "data": {
      "text/html": [
       "<pre>| 8       | 892.606ms    | 0.74253                |</pre>"
      ],
      "text/plain": [
       "| 8       | 892.606ms    | 0.74253                |"
      ]
     },
     "metadata": {},
     "output_type": "display_data"
    },
    {
     "data": {
      "text/html": [
       "<pre>| 9       | 986.617ms    | 0.740347               |</pre>"
      ],
      "text/plain": [
       "| 9       | 986.617ms    | 0.740347               |"
      ]
     },
     "metadata": {},
     "output_type": "display_data"
    },
    {
     "data": {
      "text/html": [
       "<pre>| 10      | 1.07s        | 0.738471               |</pre>"
      ],
      "text/plain": [
       "| 10      | 1.07s        | 0.738471               |"
      ]
     },
     "metadata": {},
     "output_type": "display_data"
    },
    {
     "data": {
      "text/html": [
       "<pre>| 11      | 1.16s        | 0.736867               |</pre>"
      ],
      "text/plain": [
       "| 11      | 1.16s        | 0.736867               |"
      ]
     },
     "metadata": {},
     "output_type": "display_data"
    },
    {
     "data": {
      "text/html": [
       "<pre>| 12      | 1.24s        | 0.735563               |</pre>"
      ],
      "text/plain": [
       "| 12      | 1.24s        | 0.735563               |"
      ]
     },
     "metadata": {},
     "output_type": "display_data"
    },
    {
     "data": {
      "text/html": [
       "<pre>| 13      | 1.33s        | 0.734434               |</pre>"
      ],
      "text/plain": [
       "| 13      | 1.33s        | 0.734434               |"
      ]
     },
     "metadata": {},
     "output_type": "display_data"
    },
    {
     "data": {
      "text/html": [
       "<pre>| 14      | 1.42s        | 0.733449               |</pre>"
      ],
      "text/plain": [
       "| 14      | 1.42s        | 0.733449               |"
      ]
     },
     "metadata": {},
     "output_type": "display_data"
    },
    {
     "data": {
      "text/html": [
       "<pre>| 15      | 1.51s        | 0.732556               |</pre>"
      ],
      "text/plain": [
       "| 15      | 1.51s        | 0.732556               |"
      ]
     },
     "metadata": {},
     "output_type": "display_data"
    },
    {
     "data": {
      "text/html": [
       "<pre>| 16      | 1.61s        | 0.731745               |</pre>"
      ],
      "text/plain": [
       "| 16      | 1.61s        | 0.731745               |"
      ]
     },
     "metadata": {},
     "output_type": "display_data"
    },
    {
     "data": {
      "text/html": [
       "<pre>| 17      | 1.70s        | 0.730888               |</pre>"
      ],
      "text/plain": [
       "| 17      | 1.70s        | 0.730888               |"
      ]
     },
     "metadata": {},
     "output_type": "display_data"
    },
    {
     "data": {
      "text/html": [
       "<pre>| 18      | 1.80s        | 0.730193               |</pre>"
      ],
      "text/plain": [
       "| 18      | 1.80s        | 0.730193               |"
      ]
     },
     "metadata": {},
     "output_type": "display_data"
    },
    {
     "data": {
      "text/html": [
       "<pre>| 19      | 1.91s        | 0.729598               |</pre>"
      ],
      "text/plain": [
       "| 19      | 1.91s        | 0.729598               |"
      ]
     },
     "metadata": {},
     "output_type": "display_data"
    },
    {
     "data": {
      "text/html": [
       "<pre>| 20      | 2.00s        | 0.729067               |</pre>"
      ],
      "text/plain": [
       "| 20      | 2.00s        | 0.729067               |"
      ]
     },
     "metadata": {},
     "output_type": "display_data"
    },
    {
     "data": {
      "text/html": [
       "<pre>| 21      | 2.08s        | 0.728575               |</pre>"
      ],
      "text/plain": [
       "| 21      | 2.08s        | 0.728575               |"
      ]
     },
     "metadata": {},
     "output_type": "display_data"
    },
    {
     "data": {
      "text/html": [
       "<pre>| 22      | 2.17s        | 0.728112               |</pre>"
      ],
      "text/plain": [
       "| 22      | 2.17s        | 0.728112               |"
      ]
     },
     "metadata": {},
     "output_type": "display_data"
    },
    {
     "data": {
      "text/html": [
       "<pre>| 23      | 2.25s        | 0.727636               |</pre>"
      ],
      "text/plain": [
       "| 23      | 2.25s        | 0.727636               |"
      ]
     },
     "metadata": {},
     "output_type": "display_data"
    },
    {
     "data": {
      "text/html": [
       "<pre>| 24      | 2.34s        | 0.72719                |</pre>"
      ],
      "text/plain": [
       "| 24      | 2.34s        | 0.72719                |"
      ]
     },
     "metadata": {},
     "output_type": "display_data"
    },
    {
     "data": {
      "text/html": [
       "<pre>| 25      | 2.47s        | 0.726763               |</pre>"
      ],
      "text/plain": [
       "| 25      | 2.47s        | 0.726763               |"
      ]
     },
     "metadata": {},
     "output_type": "display_data"
    },
    {
     "data": {
      "text/html": [
       "<pre>| 26      | 2.63s        | 0.726349               |</pre>"
      ],
      "text/plain": [
       "| 26      | 2.63s        | 0.726349               |"
      ]
     },
     "metadata": {},
     "output_type": "display_data"
    },
    {
     "data": {
      "text/html": [
       "<pre>| 27      | 2.76s        | 0.72596                |</pre>"
      ],
      "text/plain": [
       "| 27      | 2.76s        | 0.72596                |"
      ]
     },
     "metadata": {},
     "output_type": "display_data"
    },
    {
     "data": {
      "text/html": [
       "<pre>| 28      | 2.87s        | 0.725598               |</pre>"
      ],
      "text/plain": [
       "| 28      | 2.87s        | 0.725598               |"
      ]
     },
     "metadata": {},
     "output_type": "display_data"
    },
    {
     "data": {
      "text/html": [
       "<pre>| 29      | 3.00s        | 0.725265               |</pre>"
      ],
      "text/plain": [
       "| 29      | 3.00s        | 0.725265               |"
      ]
     },
     "metadata": {},
     "output_type": "display_data"
    },
    {
     "data": {
      "text/html": [
       "<pre>| 30      | 3.17s        | 0.724959               |</pre>"
      ],
      "text/plain": [
       "| 30      | 3.17s        | 0.724959               |"
      ]
     },
     "metadata": {},
     "output_type": "display_data"
    },
    {
     "data": {
      "text/html": [
       "<pre>| 31      | 3.29s        | 0.724679               |</pre>"
      ],
      "text/plain": [
       "| 31      | 3.29s        | 0.724679               |"
      ]
     },
     "metadata": {},
     "output_type": "display_data"
    },
    {
     "data": {
      "text/html": [
       "<pre>| 32      | 3.40s        | 0.724424               |</pre>"
      ],
      "text/plain": [
       "| 32      | 3.40s        | 0.724424               |"
      ]
     },
     "metadata": {},
     "output_type": "display_data"
    },
    {
     "data": {
      "text/html": [
       "<pre>| 33      | 3.49s        | 0.72419                |</pre>"
      ],
      "text/plain": [
       "| 33      | 3.49s        | 0.72419                |"
      ]
     },
     "metadata": {},
     "output_type": "display_data"
    },
    {
     "data": {
      "text/html": [
       "<pre>| 34      | 3.65s        | 0.723977               |</pre>"
      ],
      "text/plain": [
       "| 34      | 3.65s        | 0.723977               |"
      ]
     },
     "metadata": {},
     "output_type": "display_data"
    },
    {
     "data": {
      "text/html": [
       "<pre>| 35      | 3.75s        | 0.723784               |</pre>"
      ],
      "text/plain": [
       "| 35      | 3.75s        | 0.723784               |"
      ]
     },
     "metadata": {},
     "output_type": "display_data"
    },
    {
     "data": {
      "text/html": [
       "<pre>| 36      | 3.84s        | 0.72361                |</pre>"
      ],
      "text/plain": [
       "| 36      | 3.84s        | 0.72361                |"
      ]
     },
     "metadata": {},
     "output_type": "display_data"
    },
    {
     "data": {
      "text/html": [
       "<pre>| 37      | 3.93s        | 0.723453               |</pre>"
      ],
      "text/plain": [
       "| 37      | 3.93s        | 0.723453               |"
      ]
     },
     "metadata": {},
     "output_type": "display_data"
    },
    {
     "data": {
      "text/html": [
       "<pre>| 38      | 4.05s        | 0.723311               |</pre>"
      ],
      "text/plain": [
       "| 38      | 4.05s        | 0.723311               |"
      ]
     },
     "metadata": {},
     "output_type": "display_data"
    },
    {
     "data": {
      "text/html": [
       "<pre>| 39      | 4.13s        | 0.72318                |</pre>"
      ],
      "text/plain": [
       "| 39      | 4.13s        | 0.72318                |"
      ]
     },
     "metadata": {},
     "output_type": "display_data"
    },
    {
     "data": {
      "text/html": [
       "<pre>| 40      | 4.22s        | 0.723059               |</pre>"
      ],
      "text/plain": [
       "| 40      | 4.22s        | 0.723059               |"
      ]
     },
     "metadata": {},
     "output_type": "display_data"
    },
    {
     "data": {
      "text/html": [
       "<pre>| 41      | 4.31s        | 0.722944               |</pre>"
      ],
      "text/plain": [
       "| 41      | 4.31s        | 0.722944               |"
      ]
     },
     "metadata": {},
     "output_type": "display_data"
    },
    {
     "data": {
      "text/html": [
       "<pre>| 42      | 4.39s        | 0.722837               |</pre>"
      ],
      "text/plain": [
       "| 42      | 4.39s        | 0.722837               |"
      ]
     },
     "metadata": {},
     "output_type": "display_data"
    },
    {
     "data": {
      "text/html": [
       "<pre>| 43      | 4.48s        | 0.722736               |</pre>"
      ],
      "text/plain": [
       "| 43      | 4.48s        | 0.722736               |"
      ]
     },
     "metadata": {},
     "output_type": "display_data"
    },
    {
     "data": {
      "text/html": [
       "<pre>| 44      | 4.56s        | 0.72264                |</pre>"
      ],
      "text/plain": [
       "| 44      | 4.56s        | 0.72264                |"
      ]
     },
     "metadata": {},
     "output_type": "display_data"
    },
    {
     "data": {
      "text/html": [
       "<pre>| 45      | 4.65s        | 0.722549               |</pre>"
      ],
      "text/plain": [
       "| 45      | 4.65s        | 0.722549               |"
      ]
     },
     "metadata": {},
     "output_type": "display_data"
    },
    {
     "data": {
      "text/html": [
       "<pre>| 46      | 4.74s        | 0.722463               |</pre>"
      ],
      "text/plain": [
       "| 46      | 4.74s        | 0.722463               |"
      ]
     },
     "metadata": {},
     "output_type": "display_data"
    },
    {
     "data": {
      "text/html": [
       "<pre>| 47      | 4.83s        | 0.722381               |</pre>"
      ],
      "text/plain": [
       "| 47      | 4.83s        | 0.722381               |"
      ]
     },
     "metadata": {},
     "output_type": "display_data"
    },
    {
     "data": {
      "text/html": [
       "<pre>| 48      | 4.92s        | 0.722302               |</pre>"
      ],
      "text/plain": [
       "| 48      | 4.92s        | 0.722302               |"
      ]
     },
     "metadata": {},
     "output_type": "display_data"
    },
    {
     "data": {
      "text/html": [
       "<pre>| 49      | 5.00s        | 0.722226               |</pre>"
      ],
      "text/plain": [
       "| 49      | 5.00s        | 0.722226               |"
      ]
     },
     "metadata": {},
     "output_type": "display_data"
    },
    {
     "data": {
      "text/html": [
       "<pre>| FINAL   | 5.04s        | 0.722226               |</pre>"
      ],
      "text/plain": [
       "| FINAL   | 5.04s        | 0.722226               |"
      ]
     },
     "metadata": {},
     "output_type": "display_data"
    },
    {
     "data": {
      "text/html": [
       "<pre>+---------+--------------+------------------------+</pre>"
      ],
      "text/plain": [
       "+---------+--------------+------------------------+"
      ]
     },
     "metadata": {},
     "output_type": "display_data"
    },
    {
     "data": {
      "text/html": [
       "<pre>Optimization Complete: Iteration limit reached.</pre>"
      ],
      "text/plain": [
       "Optimization Complete: Iteration limit reached."
      ]
     },
     "metadata": {},
     "output_type": "display_data"
    }
   ],
   "source": [
    "content = graphlab.SFrame(content_df)\n",
    "model = graphlab.recommender.factorization_recommender.create(content, user_id='user_id', item_id='item_id', target='target', solver='als')"
   ]
  },
  {
   "cell_type": "code",
   "execution_count": 3,
   "metadata": {},
   "outputs": [
    {
     "data": {
      "text/plain": [
       "dtype: float\n",
       "Rows: 1\n",
       "[4.819384555206293]"
      ]
     },
     "execution_count": 3,
     "metadata": {},
     "output_type": "execute_result"
    }
   ],
   "source": [
    "one_datapoint_sf = graphlab.SFrame({'user_id': [1], 'item_id': [100]})\n",
    "model.predict(one_datapoint_sf)"
   ]
  },
  {
   "cell_type": "code",
   "execution_count": 4,
   "metadata": {},
   "outputs": [
    {
     "data": {
      "text/plain": [
       "['adagrad_momentum_weighting',\n",
       " 'additional_iterations_if_unhealthy',\n",
       " 'binary_target',\n",
       " 'coefficients',\n",
       " 'data_load_time',\n",
       " 'init_random_sigma',\n",
       " 'item_id',\n",
       " 'item_side_data_column_names',\n",
       " 'item_side_data_column_types',\n",
       " 'linear_regularization',\n",
       " 'max_iterations',\n",
       " 'model_name',\n",
       " 'nmf',\n",
       " 'num_factors',\n",
       " 'num_features',\n",
       " 'num_item_side_features',\n",
       " 'num_items',\n",
       " 'num_observations',\n",
       " 'num_tempering_iterations',\n",
       " 'num_user_side_features',\n",
       " 'num_users',\n",
       " 'observation_data_column_names',\n",
       " 'random_seed',\n",
       " 'regularization',\n",
       " 'regularization_type',\n",
       " 'sgd_convergence_interval',\n",
       " 'sgd_convergence_threshold',\n",
       " 'sgd_max_trial_iterations',\n",
       " 'sgd_sampling_block_size',\n",
       " 'sgd_step_adjustment_interval',\n",
       " 'sgd_step_size',\n",
       " 'sgd_trial_sample_minimum_size',\n",
       " 'sgd_trial_sample_proportion',\n",
       " 'side_data_factorization',\n",
       " 'solver',\n",
       " 'step_size_decrease_rate',\n",
       " 'target',\n",
       " 'tempering_regularization_start_value',\n",
       " 'track_exact_loss',\n",
       " 'training_rmse',\n",
       " 'training_stats',\n",
       " 'training_time',\n",
       " 'user_id',\n",
       " 'user_side_data_column_names',\n",
       " 'user_side_data_column_types']"
      ]
     },
     "execution_count": 4,
     "metadata": {},
     "output_type": "execute_result"
    }
   ],
   "source": [
    "model.list_fields()"
   ]
  },
  {
   "cell_type": "code",
   "execution_count": 5,
   "metadata": {},
   "outputs": [
    {
     "data": {
      "text/plain": [
       "array([[ 4.81938464]])"
      ]
     },
     "execution_count": 5,
     "metadata": {},
     "output_type": "execute_result"
    }
   ],
   "source": [
    "itemdf = model.get('coefficients')['item_id']\n",
    "userdf = model.get('coefficients')['user_id']\n",
    "user1 = userdf[userdf['user_id'] ==1]['factors'].to_numpy()\n",
    "item100 = itemdf[itemdf['item_id']==100]['factors'].to_numpy()\n",
    "np.dot(user1,item100.T) + model.get('coefficients')['intercept']"
   ]
  },
  {
   "cell_type": "code",
   "execution_count": 6,
   "metadata": {},
   "outputs": [
    {
     "data": {
      "text/plain": [
       "0.7222256952780111"
      ]
     },
     "execution_count": 6,
     "metadata": {},
     "output_type": "execute_result"
    }
   ],
   "source": [
    "model['training_rmse']"
   ]
  },
  {
   "cell_type": "code",
   "execution_count": 7,
   "metadata": {},
   "outputs": [],
   "source": [
    "content_df['prediction'] = model.predict(graphlab.SFrame({'user_id':content_df['user_id'] , 'item_id': content_df['item_id']}))"
   ]
  },
  {
   "cell_type": "code",
   "execution_count": 12,
   "metadata": {},
   "outputs": [
    {
     "data": {
      "text/plain": [
       "0.72222569527801161"
      ]
     },
     "execution_count": 12,
     "metadata": {},
     "output_type": "execute_result"
    }
   ],
   "source": [
    "sum((content_df['prediction'] - content_df['target']) ** 2 / len(content_df)) ** 0.5"
   ]
  },
  {
   "cell_type": "code",
   "execution_count": 13,
   "metadata": {},
   "outputs": [
    {
     "data": {
      "text/plain": [
       "count    100000.000000\n",
       "mean          3.529778\n",
       "std           0.863424\n",
       "min          -0.337615\n",
       "25%           3.027668\n",
       "50%           3.641162\n",
       "75%           4.131059\n",
       "max           6.405602\n",
       "Name: prediction, dtype: float64"
      ]
     },
     "execution_count": 13,
     "metadata": {},
     "output_type": "execute_result"
    }
   ],
   "source": [
    "content_df['prediction'].describe()"
   ]
  },
  {
   "cell_type": "code",
   "execution_count": 14,
   "metadata": {},
   "outputs": [
    {
     "data": {
      "text/plain": [
       "count    100000.000000\n",
       "mean          3.529860\n",
       "std           1.125674\n",
       "min           1.000000\n",
       "25%           3.000000\n",
       "50%           4.000000\n",
       "75%           4.000000\n",
       "max           5.000000\n",
       "Name: target, dtype: float64"
      ]
     },
     "execution_count": 14,
     "metadata": {},
     "output_type": "execute_result"
    }
   ],
   "source": [
    "content_df['target'].describe()"
   ]
  },
  {
   "cell_type": "code",
   "execution_count": 15,
   "metadata": {
    "collapsed": true
   },
   "outputs": [],
   "source": [
    "import matplotlib.pyplot as plt\n",
    "%matplotlib inline"
   ]
  },
  {
   "cell_type": "code",
   "execution_count": 21,
   "metadata": {},
   "outputs": [
    {
     "data": {
      "text/html": [
       "<div>\n",
       "<style>\n",
       "    .dataframe thead tr:only-child th {\n",
       "        text-align: right;\n",
       "    }\n",
       "\n",
       "    .dataframe thead th {\n",
       "        text-align: left;\n",
       "    }\n",
       "\n",
       "    .dataframe tbody tr th {\n",
       "        vertical-align: top;\n",
       "    }\n",
       "</style>\n",
       "<table border=\"1\" class=\"dataframe\">\n",
       "  <thead>\n",
       "    <tr style=\"text-align: right;\">\n",
       "      <th></th>\n",
       "      <th>user_id</th>\n",
       "      <th>item_id</th>\n",
       "      <th>target</th>\n",
       "      <th>prediction</th>\n",
       "    </tr>\n",
       "  </thead>\n",
       "  <tbody>\n",
       "    <tr>\n",
       "      <th>0</th>\n",
       "      <td>196</td>\n",
       "      <td>242</td>\n",
       "      <td>3</td>\n",
       "      <td>3.491706</td>\n",
       "    </tr>\n",
       "    <tr>\n",
       "      <th>1</th>\n",
       "      <td>186</td>\n",
       "      <td>302</td>\n",
       "      <td>3</td>\n",
       "      <td>2.600465</td>\n",
       "    </tr>\n",
       "    <tr>\n",
       "      <th>2</th>\n",
       "      <td>22</td>\n",
       "      <td>377</td>\n",
       "      <td>1</td>\n",
       "      <td>1.280030</td>\n",
       "    </tr>\n",
       "    <tr>\n",
       "      <th>3</th>\n",
       "      <td>244</td>\n",
       "      <td>51</td>\n",
       "      <td>2</td>\n",
       "      <td>3.605151</td>\n",
       "    </tr>\n",
       "    <tr>\n",
       "      <th>4</th>\n",
       "      <td>166</td>\n",
       "      <td>346</td>\n",
       "      <td>1</td>\n",
       "      <td>1.684860</td>\n",
       "    </tr>\n",
       "    <tr>\n",
       "      <th>5</th>\n",
       "      <td>298</td>\n",
       "      <td>474</td>\n",
       "      <td>4</td>\n",
       "      <td>3.967730</td>\n",
       "    </tr>\n",
       "    <tr>\n",
       "      <th>6</th>\n",
       "      <td>115</td>\n",
       "      <td>265</td>\n",
       "      <td>2</td>\n",
       "      <td>2.967663</td>\n",
       "    </tr>\n",
       "    <tr>\n",
       "      <th>7</th>\n",
       "      <td>253</td>\n",
       "      <td>465</td>\n",
       "      <td>5</td>\n",
       "      <td>4.075494</td>\n",
       "    </tr>\n",
       "    <tr>\n",
       "      <th>8</th>\n",
       "      <td>305</td>\n",
       "      <td>451</td>\n",
       "      <td>3</td>\n",
       "      <td>2.743032</td>\n",
       "    </tr>\n",
       "    <tr>\n",
       "      <th>9</th>\n",
       "      <td>6</td>\n",
       "      <td>86</td>\n",
       "      <td>3</td>\n",
       "      <td>3.789846</td>\n",
       "    </tr>\n",
       "    <tr>\n",
       "      <th>10</th>\n",
       "      <td>62</td>\n",
       "      <td>257</td>\n",
       "      <td>2</td>\n",
       "      <td>3.489899</td>\n",
       "    </tr>\n",
       "    <tr>\n",
       "      <th>11</th>\n",
       "      <td>286</td>\n",
       "      <td>1014</td>\n",
       "      <td>5</td>\n",
       "      <td>3.538372</td>\n",
       "    </tr>\n",
       "    <tr>\n",
       "      <th>12</th>\n",
       "      <td>200</td>\n",
       "      <td>222</td>\n",
       "      <td>5</td>\n",
       "      <td>4.412440</td>\n",
       "    </tr>\n",
       "    <tr>\n",
       "      <th>13</th>\n",
       "      <td>210</td>\n",
       "      <td>40</td>\n",
       "      <td>3</td>\n",
       "      <td>3.066506</td>\n",
       "    </tr>\n",
       "    <tr>\n",
       "      <th>14</th>\n",
       "      <td>224</td>\n",
       "      <td>29</td>\n",
       "      <td>3</td>\n",
       "      <td>3.168739</td>\n",
       "    </tr>\n",
       "    <tr>\n",
       "      <th>15</th>\n",
       "      <td>303</td>\n",
       "      <td>785</td>\n",
       "      <td>3</td>\n",
       "      <td>2.786820</td>\n",
       "    </tr>\n",
       "    <tr>\n",
       "      <th>16</th>\n",
       "      <td>122</td>\n",
       "      <td>387</td>\n",
       "      <td>5</td>\n",
       "      <td>4.347302</td>\n",
       "    </tr>\n",
       "    <tr>\n",
       "      <th>17</th>\n",
       "      <td>194</td>\n",
       "      <td>274</td>\n",
       "      <td>2</td>\n",
       "      <td>2.386537</td>\n",
       "    </tr>\n",
       "    <tr>\n",
       "      <th>18</th>\n",
       "      <td>291</td>\n",
       "      <td>1042</td>\n",
       "      <td>4</td>\n",
       "      <td>3.587695</td>\n",
       "    </tr>\n",
       "    <tr>\n",
       "      <th>19</th>\n",
       "      <td>234</td>\n",
       "      <td>1184</td>\n",
       "      <td>2</td>\n",
       "      <td>1.958865</td>\n",
       "    </tr>\n",
       "    <tr>\n",
       "      <th>20</th>\n",
       "      <td>119</td>\n",
       "      <td>392</td>\n",
       "      <td>4</td>\n",
       "      <td>3.988609</td>\n",
       "    </tr>\n",
       "    <tr>\n",
       "      <th>21</th>\n",
       "      <td>167</td>\n",
       "      <td>486</td>\n",
       "      <td>4</td>\n",
       "      <td>3.526673</td>\n",
       "    </tr>\n",
       "    <tr>\n",
       "      <th>22</th>\n",
       "      <td>299</td>\n",
       "      <td>144</td>\n",
       "      <td>4</td>\n",
       "      <td>3.366377</td>\n",
       "    </tr>\n",
       "    <tr>\n",
       "      <th>23</th>\n",
       "      <td>291</td>\n",
       "      <td>118</td>\n",
       "      <td>2</td>\n",
       "      <td>3.267564</td>\n",
       "    </tr>\n",
       "    <tr>\n",
       "      <th>24</th>\n",
       "      <td>308</td>\n",
       "      <td>1</td>\n",
       "      <td>4</td>\n",
       "      <td>3.705400</td>\n",
       "    </tr>\n",
       "    <tr>\n",
       "      <th>25</th>\n",
       "      <td>95</td>\n",
       "      <td>546</td>\n",
       "      <td>2</td>\n",
       "      <td>2.913209</td>\n",
       "    </tr>\n",
       "    <tr>\n",
       "      <th>26</th>\n",
       "      <td>38</td>\n",
       "      <td>95</td>\n",
       "      <td>5</td>\n",
       "      <td>4.560447</td>\n",
       "    </tr>\n",
       "    <tr>\n",
       "      <th>27</th>\n",
       "      <td>102</td>\n",
       "      <td>768</td>\n",
       "      <td>2</td>\n",
       "      <td>2.831329</td>\n",
       "    </tr>\n",
       "    <tr>\n",
       "      <th>28</th>\n",
       "      <td>63</td>\n",
       "      <td>277</td>\n",
       "      <td>4</td>\n",
       "      <td>3.782375</td>\n",
       "    </tr>\n",
       "    <tr>\n",
       "      <th>29</th>\n",
       "      <td>160</td>\n",
       "      <td>234</td>\n",
       "      <td>5</td>\n",
       "      <td>4.178425</td>\n",
       "    </tr>\n",
       "    <tr>\n",
       "      <th>...</th>\n",
       "      <td>...</td>\n",
       "      <td>...</td>\n",
       "      <td>...</td>\n",
       "      <td>...</td>\n",
       "    </tr>\n",
       "    <tr>\n",
       "      <th>99970</th>\n",
       "      <td>449</td>\n",
       "      <td>120</td>\n",
       "      <td>1</td>\n",
       "      <td>0.528416</td>\n",
       "    </tr>\n",
       "    <tr>\n",
       "      <th>99971</th>\n",
       "      <td>661</td>\n",
       "      <td>762</td>\n",
       "      <td>2</td>\n",
       "      <td>3.092686</td>\n",
       "    </tr>\n",
       "    <tr>\n",
       "      <th>99972</th>\n",
       "      <td>721</td>\n",
       "      <td>874</td>\n",
       "      <td>3</td>\n",
       "      <td>3.444374</td>\n",
       "    </tr>\n",
       "    <tr>\n",
       "      <th>99973</th>\n",
       "      <td>821</td>\n",
       "      <td>151</td>\n",
       "      <td>4</td>\n",
       "      <td>4.223520</td>\n",
       "    </tr>\n",
       "    <tr>\n",
       "      <th>99974</th>\n",
       "      <td>764</td>\n",
       "      <td>596</td>\n",
       "      <td>3</td>\n",
       "      <td>3.513453</td>\n",
       "    </tr>\n",
       "    <tr>\n",
       "      <th>99975</th>\n",
       "      <td>537</td>\n",
       "      <td>443</td>\n",
       "      <td>3</td>\n",
       "      <td>3.403219</td>\n",
       "    </tr>\n",
       "    <tr>\n",
       "      <th>99976</th>\n",
       "      <td>618</td>\n",
       "      <td>628</td>\n",
       "      <td>2</td>\n",
       "      <td>3.216505</td>\n",
       "    </tr>\n",
       "    <tr>\n",
       "      <th>99977</th>\n",
       "      <td>487</td>\n",
       "      <td>291</td>\n",
       "      <td>3</td>\n",
       "      <td>3.861100</td>\n",
       "    </tr>\n",
       "    <tr>\n",
       "      <th>99978</th>\n",
       "      <td>113</td>\n",
       "      <td>975</td>\n",
       "      <td>5</td>\n",
       "      <td>3.530399</td>\n",
       "    </tr>\n",
       "    <tr>\n",
       "      <th>99979</th>\n",
       "      <td>943</td>\n",
       "      <td>391</td>\n",
       "      <td>2</td>\n",
       "      <td>2.143101</td>\n",
       "    </tr>\n",
       "    <tr>\n",
       "      <th>99980</th>\n",
       "      <td>864</td>\n",
       "      <td>685</td>\n",
       "      <td>4</td>\n",
       "      <td>3.521224</td>\n",
       "    </tr>\n",
       "    <tr>\n",
       "      <th>99981</th>\n",
       "      <td>750</td>\n",
       "      <td>323</td>\n",
       "      <td>3</td>\n",
       "      <td>2.845519</td>\n",
       "    </tr>\n",
       "    <tr>\n",
       "      <th>99982</th>\n",
       "      <td>279</td>\n",
       "      <td>64</td>\n",
       "      <td>1</td>\n",
       "      <td>3.003769</td>\n",
       "    </tr>\n",
       "    <tr>\n",
       "      <th>99983</th>\n",
       "      <td>646</td>\n",
       "      <td>750</td>\n",
       "      <td>3</td>\n",
       "      <td>2.787029</td>\n",
       "    </tr>\n",
       "    <tr>\n",
       "      <th>99984</th>\n",
       "      <td>654</td>\n",
       "      <td>370</td>\n",
       "      <td>2</td>\n",
       "      <td>2.227241</td>\n",
       "    </tr>\n",
       "    <tr>\n",
       "      <th>99985</th>\n",
       "      <td>617</td>\n",
       "      <td>582</td>\n",
       "      <td>4</td>\n",
       "      <td>4.094624</td>\n",
       "    </tr>\n",
       "    <tr>\n",
       "      <th>99986</th>\n",
       "      <td>913</td>\n",
       "      <td>690</td>\n",
       "      <td>3</td>\n",
       "      <td>2.881745</td>\n",
       "    </tr>\n",
       "    <tr>\n",
       "      <th>99987</th>\n",
       "      <td>660</td>\n",
       "      <td>229</td>\n",
       "      <td>2</td>\n",
       "      <td>2.095510</td>\n",
       "    </tr>\n",
       "    <tr>\n",
       "      <th>99988</th>\n",
       "      <td>421</td>\n",
       "      <td>498</td>\n",
       "      <td>4</td>\n",
       "      <td>3.669129</td>\n",
       "    </tr>\n",
       "    <tr>\n",
       "      <th>99989</th>\n",
       "      <td>495</td>\n",
       "      <td>1091</td>\n",
       "      <td>4</td>\n",
       "      <td>3.526741</td>\n",
       "    </tr>\n",
       "    <tr>\n",
       "      <th>99990</th>\n",
       "      <td>806</td>\n",
       "      <td>421</td>\n",
       "      <td>4</td>\n",
       "      <td>3.155230</td>\n",
       "    </tr>\n",
       "    <tr>\n",
       "      <th>99991</th>\n",
       "      <td>676</td>\n",
       "      <td>538</td>\n",
       "      <td>4</td>\n",
       "      <td>2.976898</td>\n",
       "    </tr>\n",
       "    <tr>\n",
       "      <th>99992</th>\n",
       "      <td>721</td>\n",
       "      <td>262</td>\n",
       "      <td>3</td>\n",
       "      <td>2.745534</td>\n",
       "    </tr>\n",
       "    <tr>\n",
       "      <th>99993</th>\n",
       "      <td>913</td>\n",
       "      <td>209</td>\n",
       "      <td>2</td>\n",
       "      <td>3.691350</td>\n",
       "    </tr>\n",
       "    <tr>\n",
       "      <th>99994</th>\n",
       "      <td>378</td>\n",
       "      <td>78</td>\n",
       "      <td>3</td>\n",
       "      <td>2.898862</td>\n",
       "    </tr>\n",
       "    <tr>\n",
       "      <th>99995</th>\n",
       "      <td>880</td>\n",
       "      <td>476</td>\n",
       "      <td>3</td>\n",
       "      <td>2.522176</td>\n",
       "    </tr>\n",
       "    <tr>\n",
       "      <th>99996</th>\n",
       "      <td>716</td>\n",
       "      <td>204</td>\n",
       "      <td>5</td>\n",
       "      <td>4.105588</td>\n",
       "    </tr>\n",
       "    <tr>\n",
       "      <th>99997</th>\n",
       "      <td>276</td>\n",
       "      <td>1090</td>\n",
       "      <td>1</td>\n",
       "      <td>1.652620</td>\n",
       "    </tr>\n",
       "    <tr>\n",
       "      <th>99998</th>\n",
       "      <td>13</td>\n",
       "      <td>225</td>\n",
       "      <td>2</td>\n",
       "      <td>2.621334</td>\n",
       "    </tr>\n",
       "    <tr>\n",
       "      <th>99999</th>\n",
       "      <td>12</td>\n",
       "      <td>203</td>\n",
       "      <td>3</td>\n",
       "      <td>4.068098</td>\n",
       "    </tr>\n",
       "  </tbody>\n",
       "</table>\n",
       "<p>100000 rows × 4 columns</p>\n",
       "</div>"
      ],
      "text/plain": [
       "       user_id  item_id  target  prediction\n",
       "0          196      242       3    3.491706\n",
       "1          186      302       3    2.600465\n",
       "2           22      377       1    1.280030\n",
       "3          244       51       2    3.605151\n",
       "4          166      346       1    1.684860\n",
       "5          298      474       4    3.967730\n",
       "6          115      265       2    2.967663\n",
       "7          253      465       5    4.075494\n",
       "8          305      451       3    2.743032\n",
       "9            6       86       3    3.789846\n",
       "10          62      257       2    3.489899\n",
       "11         286     1014       5    3.538372\n",
       "12         200      222       5    4.412440\n",
       "13         210       40       3    3.066506\n",
       "14         224       29       3    3.168739\n",
       "15         303      785       3    2.786820\n",
       "16         122      387       5    4.347302\n",
       "17         194      274       2    2.386537\n",
       "18         291     1042       4    3.587695\n",
       "19         234     1184       2    1.958865\n",
       "20         119      392       4    3.988609\n",
       "21         167      486       4    3.526673\n",
       "22         299      144       4    3.366377\n",
       "23         291      118       2    3.267564\n",
       "24         308        1       4    3.705400\n",
       "25          95      546       2    2.913209\n",
       "26          38       95       5    4.560447\n",
       "27         102      768       2    2.831329\n",
       "28          63      277       4    3.782375\n",
       "29         160      234       5    4.178425\n",
       "...        ...      ...     ...         ...\n",
       "99970      449      120       1    0.528416\n",
       "99971      661      762       2    3.092686\n",
       "99972      721      874       3    3.444374\n",
       "99973      821      151       4    4.223520\n",
       "99974      764      596       3    3.513453\n",
       "99975      537      443       3    3.403219\n",
       "99976      618      628       2    3.216505\n",
       "99977      487      291       3    3.861100\n",
       "99978      113      975       5    3.530399\n",
       "99979      943      391       2    2.143101\n",
       "99980      864      685       4    3.521224\n",
       "99981      750      323       3    2.845519\n",
       "99982      279       64       1    3.003769\n",
       "99983      646      750       3    2.787029\n",
       "99984      654      370       2    2.227241\n",
       "99985      617      582       4    4.094624\n",
       "99986      913      690       3    2.881745\n",
       "99987      660      229       2    2.095510\n",
       "99988      421      498       4    3.669129\n",
       "99989      495     1091       4    3.526741\n",
       "99990      806      421       4    3.155230\n",
       "99991      676      538       4    2.976898\n",
       "99992      721      262       3    2.745534\n",
       "99993      913      209       2    3.691350\n",
       "99994      378       78       3    2.898862\n",
       "99995      880      476       3    2.522176\n",
       "99996      716      204       5    4.105588\n",
       "99997      276     1090       1    1.652620\n",
       "99998       13      225       2    2.621334\n",
       "99999       12      203       3    4.068098\n",
       "\n",
       "[100000 rows x 4 columns]"
      ]
     },
     "execution_count": 21,
     "metadata": {},
     "output_type": "execute_result"
    }
   ],
   "source": []
  },
  {
   "cell_type": "code",
   "execution_count": 23,
   "metadata": {
    "scrolled": true
   },
   "outputs": [
    {
     "data": {
      "image/png": "[encoded data removed]",
      "text/plain": [
       "<matplotlib.figure.Figure at 0x7fe7d46ec3d0>"
      ]
     },
     "metadata": {},
     "output_type": "display_data"
    }
   ],
   "source": [
    "plt.violinplot([content_df[content_df['target'] == i]['prediction'] for i in range(1,6)], [1,2,3,4,5])\n",
    "plt.show()"
   ]
  },
  {
   "cell_type": "code",
   "execution_count": 20,
   "metadata": {},
   "outputs": [
    {
     "data": {
      "text/html": [
       "<pre>Recsys training: model = factorization_recommender</pre>"
      ],
      "text/plain": [
       "Recsys training: model = factorization_recommender"
      ]
     },
     "metadata": {},
     "output_type": "display_data"
    },
    {
     "data": {
      "text/html": [
       "<pre>Preparing data set.</pre>"
      ],
      "text/plain": [
       "Preparing data set."
      ]
     },
     "metadata": {},
     "output_type": "display_data"
    },
    {
     "data": {
      "text/html": [
       "<pre>    Data has 100000 observations with 943 users and 1682 items.</pre>"
      ],
      "text/plain": [
       "    Data has 100000 observations with 943 users and 1682 items."
      ]
     },
     "metadata": {},
     "output_type": "display_data"
    },
    {
     "data": {
      "text/html": [
       "<pre>    Data prepared in: 0.15952s</pre>"
      ],
      "text/plain": [
       "    Data prepared in: 0.15952s"
      ]
     },
     "metadata": {},
     "output_type": "display_data"
    },
    {
     "data": {
      "text/html": [
       "<pre>Training factorization_recommender for recommendations.</pre>"
      ],
      "text/plain": [
       "Training factorization_recommender for recommendations."
      ]
     },
     "metadata": {},
     "output_type": "display_data"
    },
    {
     "data": {
      "text/html": [
       "<pre>+------------------------------+--------------------------------------------------+----------+</pre>"
      ],
      "text/plain": [
       "+------------------------------+--------------------------------------------------+----------+"
      ]
     },
     "metadata": {},
     "output_type": "display_data"
    },
    {
     "data": {
      "text/html": [
       "<pre>| Parameter                    | Description                                      | Value    |</pre>"
      ],
      "text/plain": [
       "| Parameter                    | Description                                      | Value    |"
      ]
     },
     "metadata": {},
     "output_type": "display_data"
    },
    {
     "data": {
      "text/html": [
       "<pre>+------------------------------+--------------------------------------------------+----------+</pre>"
      ],
      "text/plain": [
       "+------------------------------+--------------------------------------------------+----------+"
      ]
     },
     "metadata": {},
     "output_type": "display_data"
    },
    {
     "data": {
      "text/html": [
       "<pre>| num_factors                  | Factor Dimension                                 | 8        |</pre>"
      ],
      "text/plain": [
       "| num_factors                  | Factor Dimension                                 | 8        |"
      ]
     },
     "metadata": {},
     "output_type": "display_data"
    },
    {
     "data": {
      "text/html": [
       "<pre>| regularization               | L2 Regularization on Factors                     | 0        |</pre>"
      ],
      "text/plain": [
       "| regularization               | L2 Regularization on Factors                     | 0        |"
      ]
     },
     "metadata": {},
     "output_type": "display_data"
    },
    {
     "data": {
      "text/html": [
       "<pre>| max_iterations               | Maximum Number of Iterations                     | 50       |</pre>"
      ],
      "text/plain": [
       "| max_iterations               | Maximum Number of Iterations                     | 50       |"
      ]
     },
     "metadata": {},
     "output_type": "display_data"
    },
    {
     "data": {
      "text/html": [
       "<pre>| solver                       | Solver used for training                         | als      |</pre>"
      ],
      "text/plain": [
       "| solver                       | Solver used for training                         | als      |"
      ]
     },
     "metadata": {},
     "output_type": "display_data"
    },
    {
     "data": {
      "text/html": [
       "<pre>+------------------------------+--------------------------------------------------+----------+</pre>"
      ],
      "text/plain": [
       "+------------------------------+--------------------------------------------------+----------+"
      ]
     },
     "metadata": {},
     "output_type": "display_data"
    },
    {
     "data": {
      "text/html": [
       "<pre>+---------+--------------+------------------------+</pre>"
      ],
      "text/plain": [
       "+---------+--------------+------------------------+"
      ]
     },
     "metadata": {},
     "output_type": "display_data"
    },
    {
     "data": {
      "text/html": [
       "<pre>| Iter.   | Elapsed time | RMSE                   |</pre>"
      ],
      "text/plain": [
       "| Iter.   | Elapsed time | RMSE                   |"
      ]
     },
     "metadata": {},
     "output_type": "display_data"
    },
    {
     "data": {
      "text/html": [
       "<pre>+---------+--------------+------------------------+</pre>"
      ],
      "text/plain": [
       "+---------+--------------+------------------------+"
      ]
     },
     "metadata": {},
     "output_type": "display_data"
    },
    {
     "data": {
      "text/html": [
       "<pre>| Initial | 122us        | NA                     |</pre>"
      ],
      "text/plain": [
       "| Initial | 122us        | NA                     |"
      ]
     },
     "metadata": {},
     "output_type": "display_data"
    },
    {
     "data": {
      "text/html": [
       "<pre>+---------+--------------+------------------------+</pre>"
      ],
      "text/plain": [
       "+---------+--------------+------------------------+"
      ]
     },
     "metadata": {},
     "output_type": "display_data"
    },
    {
     "data": {
      "text/html": [
       "<pre>| 0       | 126.637ms    | 0.967283               |</pre>"
      ],
      "text/plain": [
       "| 0       | 126.637ms    | 0.967283               |"
      ]
     },
     "metadata": {},
     "output_type": "display_data"
    },
    {
     "data": {
      "text/html": [
       "<pre>| 1       | 220.27ms     | 0.8434                 |</pre>"
      ],
      "text/plain": [
       "| 1       | 220.27ms     | 0.8434                 |"
      ]
     },
     "metadata": {},
     "output_type": "display_data"
    },
    {
     "data": {
      "text/html": [
       "<pre>| 2       | 314.077ms    | 0.795585               |</pre>"
      ],
      "text/plain": [
       "| 2       | 314.077ms    | 0.795585               |"
      ]
     },
     "metadata": {},
     "output_type": "display_data"
    },
    {
     "data": {
      "text/html": [
       "<pre>| 3       | 403.924ms    | 0.774392               |</pre>"
      ],
      "text/plain": [
       "| 3       | 403.924ms    | 0.774392               |"
      ]
     },
     "metadata": {},
     "output_type": "display_data"
    },
    {
     "data": {
      "text/html": [
       "<pre>| 4       | 493.89ms     | 0.763091               |</pre>"
      ],
      "text/plain": [
       "| 4       | 493.89ms     | 0.763091               |"
      ]
     },
     "metadata": {},
     "output_type": "display_data"
    },
    {
     "data": {
      "text/html": [
       "<pre>| 5       | 584.524ms    | 0.756079               |</pre>"
      ],
      "text/plain": [
       "| 5       | 584.524ms    | 0.756079               |"
      ]
     },
     "metadata": {},
     "output_type": "display_data"
    },
    {
     "data": {
      "text/html": [
       "<pre>| 6       | 674.238ms    | 0.751473               |</pre>"
      ],
      "text/plain": [
       "| 6       | 674.238ms    | 0.751473               |"
      ]
     },
     "metadata": {},
     "output_type": "display_data"
    },
    {
     "data": {
      "text/html": [
       "<pre>| 7       | 772.284ms    | 0.748082               |</pre>"
      ],
      "text/plain": [
       "| 7       | 772.284ms    | 0.748082               |"
      ]
     },
     "metadata": {},
     "output_type": "display_data"
    },
    {
     "data": {
      "text/html": [
       "<pre>| 8       | 858.358ms    | 0.745439               |</pre>"
      ],
      "text/plain": [
       "| 8       | 858.358ms    | 0.745439               |"
      ]
     },
     "metadata": {},
     "output_type": "display_data"
    },
    {
     "data": {
      "text/html": [
       "<pre>| 9       | 950.909ms    | 0.743256               |</pre>"
      ],
      "text/plain": [
       "| 9       | 950.909ms    | 0.743256               |"
      ]
     },
     "metadata": {},
     "output_type": "display_data"
    },
    {
     "data": {
      "text/html": [
       "<pre>| 10      | 1.04s        | 0.741455               |</pre>"
      ],
      "text/plain": [
       "| 10      | 1.04s        | 0.741455               |"
      ]
     },
     "metadata": {},
     "output_type": "display_data"
    },
    {
     "data": {
      "text/html": [
       "<pre>| 11      | 1.13s        | 0.739931               |</pre>"
      ],
      "text/plain": [
       "| 11      | 1.13s        | 0.739931               |"
      ]
     },
     "metadata": {},
     "output_type": "display_data"
    },
    {
     "data": {
      "text/html": [
       "<pre>| 12      | 1.23s        | 0.738675               |</pre>"
      ],
      "text/plain": [
       "| 12      | 1.23s        | 0.738675               |"
      ]
     },
     "metadata": {},
     "output_type": "display_data"
    },
    {
     "data": {
      "text/html": [
       "<pre>| 13      | 1.33s        | 0.737625               |</pre>"
      ],
      "text/plain": [
       "| 13      | 1.33s        | 0.737625               |"
      ]
     },
     "metadata": {},
     "output_type": "display_data"
    },
    {
     "data": {
      "text/html": [
       "<pre>| 14      | 1.41s        | 0.736691               |</pre>"
      ],
      "text/plain": [
       "| 14      | 1.41s        | 0.736691               |"
      ]
     },
     "metadata": {},
     "output_type": "display_data"
    },
    {
     "data": {
      "text/html": [
       "<pre>| 15      | 1.50s        | 0.735849               |</pre>"
      ],
      "text/plain": [
       "| 15      | 1.50s        | 0.735849               |"
      ]
     },
     "metadata": {},
     "output_type": "display_data"
    },
    {
     "data": {
      "text/html": [
       "<pre>| 16      | 1.59s        | 0.735118               |</pre>"
      ],
      "text/plain": [
       "| 16      | 1.59s        | 0.735118               |"
      ]
     },
     "metadata": {},
     "output_type": "display_data"
    },
    {
     "data": {
      "text/html": [
       "<pre>| 17      | 1.68s        | 0.734438               |</pre>"
      ],
      "text/plain": [
       "| 17      | 1.68s        | 0.734438               |"
      ]
     },
     "metadata": {},
     "output_type": "display_data"
    },
    {
     "data": {
      "text/html": [
       "<pre>| 18      | 1.77s        | 0.733851               |</pre>"
      ],
      "text/plain": [
       "| 18      | 1.77s        | 0.733851               |"
      ]
     },
     "metadata": {},
     "output_type": "display_data"
    },
    {
     "data": {
      "text/html": [
       "<pre>| 19      | 1.87s        | 0.733265               |</pre>"
      ],
      "text/plain": [
       "| 19      | 1.87s        | 0.733265               |"
      ]
     },
     "metadata": {},
     "output_type": "display_data"
    },
    {
     "data": {
      "text/html": [
       "<pre>| 20      | 1.97s        | 0.732744               |</pre>"
      ],
      "text/plain": [
       "| 20      | 1.97s        | 0.732744               |"
      ]
     },
     "metadata": {},
     "output_type": "display_data"
    },
    {
     "data": {
      "text/html": [
       "<pre>| 21      | 2.05s        | 0.732222               |</pre>"
      ],
      "text/plain": [
       "| 21      | 2.05s        | 0.732222               |"
      ]
     },
     "metadata": {},
     "output_type": "display_data"
    },
    {
     "data": {
      "text/html": [
       "<pre>| 22      | 2.14s        | 0.731774               |</pre>"
      ],
      "text/plain": [
       "| 22      | 2.14s        | 0.731774               |"
      ]
     },
     "metadata": {},
     "output_type": "display_data"
    },
    {
     "data": {
      "text/html": [
       "<pre>| 23      | 2.24s        | 0.73137                |</pre>"
      ],
      "text/plain": [
       "| 23      | 2.24s        | 0.73137                |"
      ]
     },
     "metadata": {},
     "output_type": "display_data"
    },
    {
     "data": {
      "text/html": [
       "<pre>| 24      | 2.33s        | 0.730776               |</pre>"
      ],
      "text/plain": [
       "| 24      | 2.33s        | 0.730776               |"
      ]
     },
     "metadata": {},
     "output_type": "display_data"
    },
    {
     "data": {
      "text/html": [
       "<pre>| 25      | 2.42s        | 0.730357               |</pre>"
      ],
      "text/plain": [
       "| 25      | 2.42s        | 0.730357               |"
      ]
     },
     "metadata": {},
     "output_type": "display_data"
    },
    {
     "data": {
      "text/html": [
       "<pre>| 26      | 2.52s        | 0.729978               |</pre>"
      ],
      "text/plain": [
       "| 26      | 2.52s        | 0.729978               |"
      ]
     },
     "metadata": {},
     "output_type": "display_data"
    },
    {
     "data": {
      "text/html": [
       "<pre>| 27      | 2.61s        | 0.729663               |</pre>"
      ],
      "text/plain": [
       "| 27      | 2.61s        | 0.729663               |"
      ]
     },
     "metadata": {},
     "output_type": "display_data"
    },
    {
     "data": {
      "text/html": [
       "<pre>| 28      | 2.70s        | 0.729386               |</pre>"
      ],
      "text/plain": [
       "| 28      | 2.70s        | 0.729386               |"
      ]
     },
     "metadata": {},
     "output_type": "display_data"
    },
    {
     "data": {
      "text/html": [
       "<pre>| 29      | 2.79s        | 0.729141               |</pre>"
      ],
      "text/plain": [
       "| 29      | 2.79s        | 0.729141               |"
      ]
     },
     "metadata": {},
     "output_type": "display_data"
    },
    {
     "data": {
      "text/html": [
       "<pre>| 30      | 2.88s        | 0.728908               |</pre>"
      ],
      "text/plain": [
       "| 30      | 2.88s        | 0.728908               |"
      ]
     },
     "metadata": {},
     "output_type": "display_data"
    },
    {
     "data": {
      "text/html": [
       "<pre>| 31      | 2.98s        | 0.728705               |</pre>"
      ],
      "text/plain": [
       "| 31      | 2.98s        | 0.728705               |"
      ]
     },
     "metadata": {},
     "output_type": "display_data"
    },
    {
     "data": {
      "text/html": [
       "<pre>| 32      | 3.08s        | 0.728518               |</pre>"
      ],
      "text/plain": [
       "| 32      | 3.08s        | 0.728518               |"
      ]
     },
     "metadata": {},
     "output_type": "display_data"
    },
    {
     "data": {
      "text/html": [
       "<pre>| 33      | 3.18s        | 0.728337               |</pre>"
      ],
      "text/plain": [
       "| 33      | 3.18s        | 0.728337               |"
      ]
     },
     "metadata": {},
     "output_type": "display_data"
    },
    {
     "data": {
      "text/html": [
       "<pre>| 34      | 3.32s        | 0.728161               |</pre>"
      ],
      "text/plain": [
       "| 34      | 3.32s        | 0.728161               |"
      ]
     },
     "metadata": {},
     "output_type": "display_data"
    },
    {
     "data": {
      "text/html": [
       "<pre>| 35      | 3.48s        | 0.727987               |</pre>"
      ],
      "text/plain": [
       "| 35      | 3.48s        | 0.727987               |"
      ]
     },
     "metadata": {},
     "output_type": "display_data"
    },
    {
     "data": {
      "text/html": [
       "<pre>| 36      | 3.56s        | 0.727819               |</pre>"
      ],
      "text/plain": [
       "| 36      | 3.56s        | 0.727819               |"
      ]
     },
     "metadata": {},
     "output_type": "display_data"
    },
    {
     "data": {
      "text/html": [
       "<pre>| 37      | 3.66s        | 0.727665               |</pre>"
      ],
      "text/plain": [
       "| 37      | 3.66s        | 0.727665               |"
      ]
     },
     "metadata": {},
     "output_type": "display_data"
    },
    {
     "data": {
      "text/html": [
       "<pre>| 38      | 3.76s        | 0.727515               |</pre>"
      ],
      "text/plain": [
       "| 38      | 3.76s        | 0.727515               |"
      ]
     },
     "metadata": {},
     "output_type": "display_data"
    },
    {
     "data": {
      "text/html": [
       "<pre>| 39      | 3.84s        | 0.727379               |</pre>"
      ],
      "text/plain": [
       "| 39      | 3.84s        | 0.727379               |"
      ]
     },
     "metadata": {},
     "output_type": "display_data"
    },
    {
     "data": {
      "text/html": [
       "<pre>| 40      | 3.94s        | 0.727247               |</pre>"
      ],
      "text/plain": [
       "| 40      | 3.94s        | 0.727247               |"
      ]
     },
     "metadata": {},
     "output_type": "display_data"
    },
    {
     "data": {
      "text/html": [
       "<pre>| 41      | 4.03s        | 0.727126               |</pre>"
      ],
      "text/plain": [
       "| 41      | 4.03s        | 0.727126               |"
      ]
     },
     "metadata": {},
     "output_type": "display_data"
    },
    {
     "data": {
      "text/html": [
       "<pre>| 42      | 4.11s        | 0.727013               |</pre>"
      ],
      "text/plain": [
       "| 42      | 4.11s        | 0.727013               |"
      ]
     },
     "metadata": {},
     "output_type": "display_data"
    },
    {
     "data": {
      "text/html": [
       "<pre>| 43      | 4.19s        | 0.726901               |</pre>"
      ],
      "text/plain": [
       "| 43      | 4.19s        | 0.726901               |"
      ]
     },
     "metadata": {},
     "output_type": "display_data"
    },
    {
     "data": {
      "text/html": [
       "<pre>| 44      | 4.28s        | 0.726791               |</pre>"
      ],
      "text/plain": [
       "| 44      | 4.28s        | 0.726791               |"
      ]
     },
     "metadata": {},
     "output_type": "display_data"
    },
    {
     "data": {
      "text/html": [
       "<pre>| 45      | 4.38s        | 0.726686               |</pre>"
      ],
      "text/plain": [
       "| 45      | 4.38s        | 0.726686               |"
      ]
     },
     "metadata": {},
     "output_type": "display_data"
    },
    {
     "data": {
      "text/html": [
       "<pre>| 46      | 4.47s        | 0.726584               |</pre>"
      ],
      "text/plain": [
       "| 46      | 4.47s        | 0.726584               |"
      ]
     },
     "metadata": {},
     "output_type": "display_data"
    },
    {
     "data": {
      "text/html": [
       "<pre>| 47      | 4.56s        | 0.726485               |</pre>"
      ],
      "text/plain": [
       "| 47      | 4.56s        | 0.726485               |"
      ]
     },
     "metadata": {},
     "output_type": "display_data"
    },
    {
     "data": {
      "text/html": [
       "<pre>| 48      | 4.65s        | 0.726388               |</pre>"
      ],
      "text/plain": [
       "| 48      | 4.65s        | 0.726388               |"
      ]
     },
     "metadata": {},
     "output_type": "display_data"
    },
    {
     "data": {
      "text/html": [
       "<pre>| 49      | 4.73s        | 0.726289               |</pre>"
      ],
      "text/plain": [
       "| 49      | 4.73s        | 0.726289               |"
      ]
     },
     "metadata": {},
     "output_type": "display_data"
    },
    {
     "data": {
      "text/html": [
       "<pre>| FINAL   | 4.73s        | 0.726289               |</pre>"
      ],
      "text/plain": [
       "| FINAL   | 4.73s        | 0.726289               |"
      ]
     },
     "metadata": {},
     "output_type": "display_data"
    },
    {
     "data": {
      "text/html": [
       "<pre>+---------+--------------+------------------------+</pre>"
      ],
      "text/plain": [
       "+---------+--------------+------------------------+"
      ]
     },
     "metadata": {},
     "output_type": "display_data"
    },
    {
     "data": {
      "text/html": [
       "<pre>Optimization Complete: Iteration limit reached.</pre>"
      ],
      "text/plain": [
       "Optimization Complete: Iteration limit reached."
      ]
     },
     "metadata": {},
     "output_type": "display_data"
    },
    {
     "data": {
      "text/html": [
       "<pre>Recsys training: model = factorization_recommender</pre>"
      ],
      "text/plain": [
       "Recsys training: model = factorization_recommender"
      ]
     },
     "metadata": {},
     "output_type": "display_data"
    },
    {
     "data": {
      "text/html": [
       "<pre>Preparing data set.</pre>"
      ],
      "text/plain": [
       "Preparing data set."
      ]
     },
     "metadata": {},
     "output_type": "display_data"
    },
    {
     "data": {
      "text/html": [
       "<pre>    Data has 100000 observations with 943 users and 1682 items.</pre>"
      ],
      "text/plain": [
       "    Data has 100000 observations with 943 users and 1682 items."
      ]
     },
     "metadata": {},
     "output_type": "display_data"
    },
    {
     "data": {
      "text/html": [
       "<pre>    Data prepared in: 0.143212s</pre>"
      ],
      "text/plain": [
       "    Data prepared in: 0.143212s"
      ]
     },
     "metadata": {},
     "output_type": "display_data"
    },
    {
     "data": {
      "text/html": [
       "<pre>Training factorization_recommender for recommendations.</pre>"
      ],
      "text/plain": [
       "Training factorization_recommender for recommendations."
      ]
     },
     "metadata": {},
     "output_type": "display_data"
    },
    {
     "data": {
      "text/html": [
       "<pre>+------------------------------+--------------------------------------------------+----------+</pre>"
      ],
      "text/plain": [
       "+------------------------------+--------------------------------------------------+----------+"
      ]
     },
     "metadata": {},
     "output_type": "display_data"
    },
    {
     "data": {
      "text/html": [
       "<pre>| Parameter                    | Description                                      | Value    |</pre>"
      ],
      "text/plain": [
       "| Parameter                    | Description                                      | Value    |"
      ]
     },
     "metadata": {},
     "output_type": "display_data"
    },
    {
     "data": {
      "text/html": [
       "<pre>+------------------------------+--------------------------------------------------+----------+</pre>"
      ],
      "text/plain": [
       "+------------------------------+--------------------------------------------------+----------+"
      ]
     },
     "metadata": {},
     "output_type": "display_data"
    },
    {
     "data": {
      "text/html": [
       "<pre>| num_factors                  | Factor Dimension                                 | 8        |</pre>"
      ],
      "text/plain": [
       "| num_factors                  | Factor Dimension                                 | 8        |"
      ]
     },
     "metadata": {},
     "output_type": "display_data"
    },
    {
     "data": {
      "text/html": [
       "<pre>| regularization               | L2 Regularization on Factors                     | 0.0001   |</pre>"
      ],
      "text/plain": [
       "| regularization               | L2 Regularization on Factors                     | 0.0001   |"
      ]
     },
     "metadata": {},
     "output_type": "display_data"
    },
    {
     "data": {
      "text/html": [
       "<pre>| max_iterations               | Maximum Number of Iterations                     | 50       |</pre>"
      ],
      "text/plain": [
       "| max_iterations               | Maximum Number of Iterations                     | 50       |"
      ]
     },
     "metadata": {},
     "output_type": "display_data"
    },
    {
     "data": {
      "text/html": [
       "<pre>| solver                       | Solver used for training                         | als      |</pre>"
      ],
      "text/plain": [
       "| solver                       | Solver used for training                         | als      |"
      ]
     },
     "metadata": {},
     "output_type": "display_data"
    },
    {
     "data": {
      "text/html": [
       "<pre>+------------------------------+--------------------------------------------------+----------+</pre>"
      ],
      "text/plain": [
       "+------------------------------+--------------------------------------------------+----------+"
      ]
     },
     "metadata": {},
     "output_type": "display_data"
    },
    {
     "data": {
      "text/html": [
       "<pre>+---------+--------------+------------------------+</pre>"
      ],
      "text/plain": [
       "+---------+--------------+------------------------+"
      ]
     },
     "metadata": {},
     "output_type": "display_data"
    },
    {
     "data": {
      "text/html": [
       "<pre>| Iter.   | Elapsed time | RMSE                   |</pre>"
      ],
      "text/plain": [
       "| Iter.   | Elapsed time | RMSE                   |"
      ]
     },
     "metadata": {},
     "output_type": "display_data"
    },
    {
     "data": {
      "text/html": [
       "<pre>+---------+--------------+------------------------+</pre>"
      ],
      "text/plain": [
       "+---------+--------------+------------------------+"
      ]
     },
     "metadata": {},
     "output_type": "display_data"
    },
    {
     "data": {
      "text/html": [
       "<pre>| Initial | 76us         | NA                     |</pre>"
      ],
      "text/plain": [
       "| Initial | 76us         | NA                     |"
      ]
     },
     "metadata": {},
     "output_type": "display_data"
    },
    {
     "data": {
      "text/html": [
       "<pre>+---------+--------------+------------------------+</pre>"
      ],
      "text/plain": [
       "+---------+--------------+------------------------+"
      ]
     },
     "metadata": {},
     "output_type": "display_data"
    },
    {
     "data": {
      "text/html": [
       "<pre>| 0       | 127.358ms    | 1.12567                |</pre>"
      ],
      "text/plain": [
       "| 0       | 127.358ms    | 1.12567                |"
      ]
     },
     "metadata": {},
     "output_type": "display_data"
    },
    {
     "data": {
      "text/html": [
       "<pre>| 1       | 217.304ms    | 1.12021                |</pre>"
      ],
      "text/plain": [
       "| 1       | 217.304ms    | 1.12021                |"
      ]
     },
     "metadata": {},
     "output_type": "display_data"
    },
    {
     "data": {
      "text/html": [
       "<pre>| 2       | 303.096ms    | 0.915286               |</pre>"
      ],
      "text/plain": [
       "| 2       | 303.096ms    | 0.915286               |"
      ]
     },
     "metadata": {},
     "output_type": "display_data"
    },
    {
     "data": {
      "text/html": [
       "<pre>| 3       | 397.736ms    | 0.848034               |</pre>"
      ],
      "text/plain": [
       "| 3       | 397.736ms    | 0.848034               |"
      ]
     },
     "metadata": {},
     "output_type": "display_data"
    },
    {
     "data": {
      "text/html": [
       "<pre>| 4       | 491.133ms    | 0.824953               |</pre>"
      ],
      "text/plain": [
       "| 4       | 491.133ms    | 0.824953               |"
      ]
     },
     "metadata": {},
     "output_type": "display_data"
    },
    {
     "data": {
      "text/html": [
       "<pre>| 5       | 585.3ms      | 0.818236               |</pre>"
      ],
      "text/plain": [
       "| 5       | 585.3ms      | 0.818236               |"
      ]
     },
     "metadata": {},
     "output_type": "display_data"
    },
    {
     "data": {
      "text/html": [
       "<pre>| 6       | 691.106ms    | 0.815291               |</pre>"
      ],
      "text/plain": [
       "| 6       | 691.106ms    | 0.815291               |"
      ]
     },
     "metadata": {},
     "output_type": "display_data"
    },
    {
     "data": {
      "text/html": [
       "<pre>| 7       | 778.873ms    | 0.813714               |</pre>"
      ],
      "text/plain": [
       "| 7       | 778.873ms    | 0.813714               |"
      ]
     },
     "metadata": {},
     "output_type": "display_data"
    },
    {
     "data": {
      "text/html": [
       "<pre>| 8       | 872.658ms    | 0.812761               |</pre>"
      ],
      "text/plain": [
       "| 8       | 872.658ms    | 0.812761               |"
      ]
     },
     "metadata": {},
     "output_type": "display_data"
    },
    {
     "data": {
      "text/html": [
       "<pre>| 9       | 958.685ms    | 0.812138               |</pre>"
      ],
      "text/plain": [
       "| 9       | 958.685ms    | 0.812138               |"
      ]
     },
     "metadata": {},
     "output_type": "display_data"
    },
    {
     "data": {
      "text/html": [
       "<pre>| 10      | 1.04s        | 0.811707               |</pre>"
      ],
      "text/plain": [
       "| 10      | 1.04s        | 0.811707               |"
      ]
     },
     "metadata": {},
     "output_type": "display_data"
    },
    {
     "data": {
      "text/html": [
       "<pre>| 11      | 1.15s        | 0.811393               |</pre>"
      ],
      "text/plain": [
       "| 11      | 1.15s        | 0.811393               |"
      ]
     },
     "metadata": {},
     "output_type": "display_data"
    },
    {
     "data": {
      "text/html": [
       "<pre>| 12      | 1.26s        | 0.811157               |</pre>"
      ],
      "text/plain": [
       "| 12      | 1.26s        | 0.811157               |"
      ]
     },
     "metadata": {},
     "output_type": "display_data"
    },
    {
     "data": {
      "text/html": [
       "<pre>| 13      | 1.36s        | 0.810973               |</pre>"
      ],
      "text/plain": [
       "| 13      | 1.36s        | 0.810973               |"
      ]
     },
     "metadata": {},
     "output_type": "display_data"
    },
    {
     "data": {
      "text/html": [
       "<pre>| 14      | 1.47s        | 0.810826               |</pre>"
      ],
      "text/plain": [
       "| 14      | 1.47s        | 0.810826               |"
      ]
     },
     "metadata": {},
     "output_type": "display_data"
    },
    {
     "data": {
      "text/html": [
       "<pre>| 15      | 1.60s        | 0.810707               |</pre>"
      ],
      "text/plain": [
       "| 15      | 1.60s        | 0.810707               |"
      ]
     },
     "metadata": {},
     "output_type": "display_data"
    },
    {
     "data": {
      "text/html": [
       "<pre>| 16      | 1.74s        | 0.810609               |</pre>"
      ],
      "text/plain": [
       "| 16      | 1.74s        | 0.810609               |"
      ]
     },
     "metadata": {},
     "output_type": "display_data"
    },
    {
     "data": {
      "text/html": [
       "<pre>| 17      | 1.86s        | 0.810527               |</pre>"
      ],
      "text/plain": [
       "| 17      | 1.86s        | 0.810527               |"
      ]
     },
     "metadata": {},
     "output_type": "display_data"
    },
    {
     "data": {
      "text/html": [
       "<pre>| 18      | 1.97s        | 0.810458               |</pre>"
      ],
      "text/plain": [
       "| 18      | 1.97s        | 0.810458               |"
      ]
     },
     "metadata": {},
     "output_type": "display_data"
    },
    {
     "data": {
      "text/html": [
       "<pre>| 19      | 2.06s        | 0.810399               |</pre>"
      ],
      "text/plain": [
       "| 19      | 2.06s        | 0.810399               |"
      ]
     },
     "metadata": {},
     "output_type": "display_data"
    },
    {
     "data": {
      "text/html": [
       "<pre>| 20      | 2.16s        | 0.810347               |</pre>"
      ],
      "text/plain": [
       "| 20      | 2.16s        | 0.810347               |"
      ]
     },
     "metadata": {},
     "output_type": "display_data"
    },
    {
     "data": {
      "text/html": [
       "<pre>| 21      | 2.24s        | 0.810303               |</pre>"
      ],
      "text/plain": [
       "| 21      | 2.24s        | 0.810303               |"
      ]
     },
     "metadata": {},
     "output_type": "display_data"
    },
    {
     "data": {
      "text/html": [
       "<pre>| 22      | 2.34s        | 0.810263               |</pre>"
      ],
      "text/plain": [
       "| 22      | 2.34s        | 0.810263               |"
      ]
     },
     "metadata": {},
     "output_type": "display_data"
    },
    {
     "data": {
      "text/html": [
       "<pre>| 23      | 2.44s        | 0.810228               |</pre>"
      ],
      "text/plain": [
       "| 23      | 2.44s        | 0.810228               |"
      ]
     },
     "metadata": {},
     "output_type": "display_data"
    },
    {
     "data": {
      "text/html": [
       "<pre>| 24      | 2.54s        | 0.810195               |</pre>"
      ],
      "text/plain": [
       "| 24      | 2.54s        | 0.810195               |"
      ]
     },
     "metadata": {},
     "output_type": "display_data"
    },
    {
     "data": {
      "text/html": [
       "<pre>| 25      | 2.63s        | 0.810166               |</pre>"
      ],
      "text/plain": [
       "| 25      | 2.63s        | 0.810166               |"
      ]
     },
     "metadata": {},
     "output_type": "display_data"
    },
    {
     "data": {
      "text/html": [
       "<pre>| 26      | 2.72s        | 0.810138               |</pre>"
      ],
      "text/plain": [
       "| 26      | 2.72s        | 0.810138               |"
      ]
     },
     "metadata": {},
     "output_type": "display_data"
    },
    {
     "data": {
      "text/html": [
       "<pre>| 27      | 2.81s        | 0.810112               |</pre>"
      ],
      "text/plain": [
       "| 27      | 2.81s        | 0.810112               |"
      ]
     },
     "metadata": {},
     "output_type": "display_data"
    },
    {
     "data": {
      "text/html": [
       "<pre>| 28      | 2.91s        | 0.810088               |</pre>"
      ],
      "text/plain": [
       "| 28      | 2.91s        | 0.810088               |"
      ]
     },
     "metadata": {},
     "output_type": "display_data"
    },
    {
     "data": {
      "text/html": [
       "<pre>| 29      | 3.00s        | 0.810066               |</pre>"
      ],
      "text/plain": [
       "| 29      | 3.00s        | 0.810066               |"
      ]
     },
     "metadata": {},
     "output_type": "display_data"
    },
    {
     "data": {
      "text/html": [
       "<pre>| 30      | 3.09s        | 0.810045               |</pre>"
      ],
      "text/plain": [
       "| 30      | 3.09s        | 0.810045               |"
      ]
     },
     "metadata": {},
     "output_type": "display_data"
    },
    {
     "data": {
      "text/html": [
       "<pre>| 31      | 3.18s        | 0.810025               |</pre>"
      ],
      "text/plain": [
       "| 31      | 3.18s        | 0.810025               |"
      ]
     },
     "metadata": {},
     "output_type": "display_data"
    },
    {
     "data": {
      "text/html": [
       "<pre>| 32      | 3.26s        | 0.810006               |</pre>"
      ],
      "text/plain": [
       "| 32      | 3.26s        | 0.810006               |"
      ]
     },
     "metadata": {},
     "output_type": "display_data"
    },
    {
     "data": {
      "text/html": [
       "<pre>| 33      | 3.35s        | 0.809988               |</pre>"
      ],
      "text/plain": [
       "| 33      | 3.35s        | 0.809988               |"
      ]
     },
     "metadata": {},
     "output_type": "display_data"
    },
    {
     "data": {
      "text/html": [
       "<pre>| 34      | 3.45s        | 0.809972               |</pre>"
      ],
      "text/plain": [
       "| 34      | 3.45s        | 0.809972               |"
      ]
     },
     "metadata": {},
     "output_type": "display_data"
    },
    {
     "data": {
      "text/html": [
       "<pre>| 35      | 3.55s        | 0.809957               |</pre>"
      ],
      "text/plain": [
       "| 35      | 3.55s        | 0.809957               |"
      ]
     },
     "metadata": {},
     "output_type": "display_data"
    },
    {
     "data": {
      "text/html": [
       "<pre>| 36      | 3.64s        | 0.809943               |</pre>"
      ],
      "text/plain": [
       "| 36      | 3.64s        | 0.809943               |"
      ]
     },
     "metadata": {},
     "output_type": "display_data"
    },
    {
     "data": {
      "text/html": [
       "<pre>| 37      | 3.72s        | 0.809931               |</pre>"
      ],
      "text/plain": [
       "| 37      | 3.72s        | 0.809931               |"
      ]
     },
     "metadata": {},
     "output_type": "display_data"
    },
    {
     "data": {
      "text/html": [
       "<pre>| 38      | 3.81s        | 0.809919               |</pre>"
      ],
      "text/plain": [
       "| 38      | 3.81s        | 0.809919               |"
      ]
     },
     "metadata": {},
     "output_type": "display_data"
    },
    {
     "data": {
      "text/html": [
       "<pre>| 39      | 3.91s        | 0.809909               |</pre>"
      ],
      "text/plain": [
       "| 39      | 3.91s        | 0.809909               |"
      ]
     },
     "metadata": {},
     "output_type": "display_data"
    },
    {
     "data": {
      "text/html": [
       "<pre>| 40      | 4.02s        | 0.8099                 |</pre>"
      ],
      "text/plain": [
       "| 40      | 4.02s        | 0.8099                 |"
      ]
     },
     "metadata": {},
     "output_type": "display_data"
    },
    {
     "data": {
      "text/html": [
       "<pre>| 41      | 4.16s        | 0.809892               |</pre>"
      ],
      "text/plain": [
       "| 41      | 4.16s        | 0.809892               |"
      ]
     },
     "metadata": {},
     "output_type": "display_data"
    },
    {
     "data": {
      "text/html": [
       "<pre>| 42      | 4.25s        | 0.809884               |</pre>"
      ],
      "text/plain": [
       "| 42      | 4.25s        | 0.809884               |"
      ]
     },
     "metadata": {},
     "output_type": "display_data"
    },
    {
     "data": {
      "text/html": [
       "<pre>| 43      | 4.34s        | 0.809877               |</pre>"
      ],
      "text/plain": [
       "| 43      | 4.34s        | 0.809877               |"
      ]
     },
     "metadata": {},
     "output_type": "display_data"
    },
    {
     "data": {
      "text/html": [
       "<pre>| 44      | 4.44s        | 0.809872               |</pre>"
      ],
      "text/plain": [
       "| 44      | 4.44s        | 0.809872               |"
      ]
     },
     "metadata": {},
     "output_type": "display_data"
    },
    {
     "data": {
      "text/html": [
       "<pre>| 45      | 4.53s        | 0.809866               |</pre>"
      ],
      "text/plain": [
       "| 45      | 4.53s        | 0.809866               |"
      ]
     },
     "metadata": {},
     "output_type": "display_data"
    },
    {
     "data": {
      "text/html": [
       "<pre>| 46      | 4.62s        | 0.809862               |</pre>"
      ],
      "text/plain": [
       "| 46      | 4.62s        | 0.809862               |"
      ]
     },
     "metadata": {},
     "output_type": "display_data"
    },
    {
     "data": {
      "text/html": [
       "<pre>| 47      | 4.72s        | 0.809858               |</pre>"
      ],
      "text/plain": [
       "| 47      | 4.72s        | 0.809858               |"
      ]
     },
     "metadata": {},
     "output_type": "display_data"
    },
    {
     "data": {
      "text/html": [
       "<pre>| 48      | 4.81s        | 0.809854               |</pre>"
      ],
      "text/plain": [
       "| 48      | 4.81s        | 0.809854               |"
      ]
     },
     "metadata": {},
     "output_type": "display_data"
    },
    {
     "data": {
      "text/html": [
       "<pre>| 49      | 4.90s        | 0.809851               |</pre>"
      ],
      "text/plain": [
       "| 49      | 4.90s        | 0.809851               |"
      ]
     },
     "metadata": {},
     "output_type": "display_data"
    },
    {
     "data": {
      "text/html": [
       "<pre>| FINAL   | 4.90s        | 0.809851               |</pre>"
      ],
      "text/plain": [
       "| FINAL   | 4.90s        | 0.809851               |"
      ]
     },
     "metadata": {},
     "output_type": "display_data"
    },
    {
     "data": {
      "text/html": [
       "<pre>+---------+--------------+------------------------+</pre>"
      ],
      "text/plain": [
       "+---------+--------------+------------------------+"
      ]
     },
     "metadata": {},
     "output_type": "display_data"
    },
    {
     "data": {
      "text/html": [
       "<pre>Optimization Complete: Iteration limit reached.</pre>"
      ],
      "text/plain": [
       "Optimization Complete: Iteration limit reached."
      ]
     },
     "metadata": {},
     "output_type": "display_data"
    },
    {
     "name": "stdout",
     "output_type": "stream",
     "text": [
      "0.72628915864\n",
      "0.809851033036\n"
     ]
    }
   ],
   "source": [
    "model0 = graphlab.recommender.factorization_recommender.create(content, user_id='user_id', item_id='item_id', target='target', solver='als', regularization=0)\n",
    "modeln4 = graphlab.recommender.factorization_recommender.create(content, user_id='user_id', item_id='item_id', target='target', solver='als', regularization=1e-4)\n",
    "print model0['training_rmse']\n",
    "print modeln4['training_rmse']"
   ]
  },
  {
   "cell_type": "code",
   "execution_count": null,
   "metadata": {
    "collapsed": true
   },
   "outputs": [],
   "source": []
  }
 ],
 "metadata": {
  "kernelspec": {
   "display_name": "Python 2",
   "language": "python",
   "name": "python2"
  },
  "language_info": {
   "codemirror_mode": {
    "name": "ipython",
    "version": 2
   },
   "file_extension": ".py",
   "mimetype": "text/x-python",
   "name": "python",
   "nbconvert_exporter": "python",
   "pygments_lexer": "ipython2",
   "version": "2.7.13"
  }
 },
 "nbformat": 4,
 "nbformat_minor": 2
}
