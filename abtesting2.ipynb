{
 "cells": [
  {
   "cell_type": "code",
   "execution_count": 166,
   "metadata": {},
   "outputs": [],
   "source": [
    "from __future__ import division\n",
    "from numpy import sqrt\n",
    "import scipy.stats as scs\n",
    "\n",
    "\n",
    "def z_test(ctr_old, ctr_new, nobs_old, nobs_new,\n",
    "           effect_size=0., two_tailed=True, alpha=.05):\n",
    "    \"\"\"Perform z-test to compare two proprtions (e.g., click through rates (ctr)).\n",
    "\n",
    "        Note: if you set two_tailed=False, z_test assumes H_A is that the effect is\n",
    "        non-negative, so the p-value is computed based on the weight in the upper tail.\n",
    "\n",
    "        Arguments:\n",
    "            ctr_old (float):    baseline proportion (ctr)\n",
    "            ctr_new (float):    new proportion\n",
    "            nobs_old (int):     number of observations in baseline sample\n",
    "            nobs_new (int):     number of observations in new sample\n",
    "            effect_size (float):    size of effect\n",
    "            two_tailed (bool):  True to use two-tailed test; False to use one-sided test\n",
    "                                where alternative hypothesis if that effect_size is non-negative\n",
    "            alpha (float):      significance level\n",
    "\n",
    "        Returns:\n",
    "            z-score, p-value, and whether to reject the null hypothesis\n",
    "    \"\"\"\n",
    "    conversion = (ctr_old * nobs_old + ctr_new * nobs_new) / \\\n",
    "                 (nobs_old + nobs_new)\n",
    "\n",
    "    se = sqrt(conversion * (1 - conversion) * (1 / nobs_old + 1 / nobs_new))\n",
    "\n",
    "    z_score = (ctr_new - ctr_old - effect_size) / se\n",
    "\n",
    "    if two_tailed:\n",
    "        p_val = (1 - scs.norm.cdf(abs(z_score))) * 2\n",
    "    else:\n",
    "        # Because H_A: estimated effect_size > effect_size\n",
    "        p_val = 1 - scs.norm.cdf(z_score)\n",
    "\n",
    "    reject_null = p_val < alpha\n",
    "#     print 'z-score: %s, p-value: %s, reject null: %s' % (z_score, p_val, reject_null)\n",
    "    return z_score, p_val, reject_null\n"
   ]
  },
  {
   "cell_type": "code",
   "execution_count": 167,
   "metadata": {},
   "outputs": [
    {
     "name": "stdout",
     "output_type": "stream",
     "text": [
      "\n"
     ]
    }
   ],
   "source": [
    "import numpy as np\n",
    "import pandas as pd\n",
    "from matplotlib import pyplot as plt\n",
    "from scipy import stats\n",
    "from statsmodels.stats.proportion import proportions_ztest as ztest\n",
    "\n",
    "df = pd.read_csv(\"data/experiment.csv\")\n",
    "df.drop_duplicates\n",
    "print()"
   ]
  },
  {
   "cell_type": "code",
   "execution_count": 168,
   "metadata": {},
   "outputs": [
    {
     "data": {
      "text/html": [
       "<div>\n",
       "<style>\n",
       "    .dataframe thead tr:only-child th {\n",
       "        text-align: right;\n",
       "    }\n",
       "\n",
       "    .dataframe thead th {\n",
       "        text-align: left;\n",
       "    }\n",
       "\n",
       "    .dataframe tbody tr th {\n",
       "        vertical-align: top;\n",
       "    }\n",
       "</style>\n",
       "<table border=\"1\" class=\"dataframe\">\n",
       "  <thead>\n",
       "    <tr style=\"text-align: right;\">\n",
       "      <th></th>\n",
       "      <th>user_id</th>\n",
       "      <th>ts</th>\n",
       "      <th>ab</th>\n",
       "      <th>landing_page</th>\n",
       "      <th>converted</th>\n",
       "    </tr>\n",
       "  </thead>\n",
       "  <tbody>\n",
       "    <tr>\n",
       "      <th>0</th>\n",
       "      <td>4040615247</td>\n",
       "      <td>1.356998e+09</td>\n",
       "      <td>treatment</td>\n",
       "      <td>new_page</td>\n",
       "      <td>0</td>\n",
       "    </tr>\n",
       "    <tr>\n",
       "      <th>1</th>\n",
       "      <td>4365389205</td>\n",
       "      <td>1.356998e+09</td>\n",
       "      <td>treatment</td>\n",
       "      <td>new_page</td>\n",
       "      <td>0</td>\n",
       "    </tr>\n",
       "    <tr>\n",
       "      <th>2</th>\n",
       "      <td>4256174578</td>\n",
       "      <td>1.356998e+09</td>\n",
       "      <td>treatment</td>\n",
       "      <td>new_page</td>\n",
       "      <td>0</td>\n",
       "    </tr>\n",
       "    <tr>\n",
       "      <th>3</th>\n",
       "      <td>8122359922</td>\n",
       "      <td>1.356998e+09</td>\n",
       "      <td>control</td>\n",
       "      <td>old_page</td>\n",
       "      <td>0</td>\n",
       "    </tr>\n",
       "    <tr>\n",
       "      <th>4</th>\n",
       "      <td>6077269891</td>\n",
       "      <td>1.356998e+09</td>\n",
       "      <td>control</td>\n",
       "      <td>old_page</td>\n",
       "      <td>0</td>\n",
       "    </tr>\n",
       "    <tr>\n",
       "      <th>5</th>\n",
       "      <td>4275599187</td>\n",
       "      <td>1.356998e+09</td>\n",
       "      <td>treatment</td>\n",
       "      <td>new_page</td>\n",
       "      <td>0</td>\n",
       "    </tr>\n",
       "    <tr>\n",
       "      <th>6</th>\n",
       "      <td>1659259079</td>\n",
       "      <td>1.356998e+09</td>\n",
       "      <td>control</td>\n",
       "      <td>old_page</td>\n",
       "      <td>0</td>\n",
       "    </tr>\n",
       "    <tr>\n",
       "      <th>7</th>\n",
       "      <td>1545725891</td>\n",
       "      <td>1.356998e+09</td>\n",
       "      <td>control</td>\n",
       "      <td>old_page</td>\n",
       "      <td>0</td>\n",
       "    </tr>\n",
       "    <tr>\n",
       "      <th>8</th>\n",
       "      <td>7347566546</td>\n",
       "      <td>1.356998e+09</td>\n",
       "      <td>treatment</td>\n",
       "      <td>new_page</td>\n",
       "      <td>0</td>\n",
       "    </tr>\n",
       "    <tr>\n",
       "      <th>9</th>\n",
       "      <td>8944268730</td>\n",
       "      <td>1.356998e+09</td>\n",
       "      <td>control</td>\n",
       "      <td>old_page</td>\n",
       "      <td>0</td>\n",
       "    </tr>\n",
       "  </tbody>\n",
       "</table>\n",
       "</div>"
      ],
      "text/plain": [
       "      user_id            ts         ab landing_page  converted\n",
       "0  4040615247  1.356998e+09  treatment     new_page          0\n",
       "1  4365389205  1.356998e+09  treatment     new_page          0\n",
       "2  4256174578  1.356998e+09  treatment     new_page          0\n",
       "3  8122359922  1.356998e+09    control     old_page          0\n",
       "4  6077269891  1.356998e+09    control     old_page          0\n",
       "5  4275599187  1.356998e+09  treatment     new_page          0\n",
       "6  1659259079  1.356998e+09    control     old_page          0\n",
       "7  1545725891  1.356998e+09    control     old_page          0\n",
       "8  7347566546  1.356998e+09  treatment     new_page          0\n",
       "9  8944268730  1.356998e+09    control     old_page          0"
      ]
     },
     "execution_count": 168,
     "metadata": {},
     "output_type": "execute_result"
    }
   ],
   "source": [
    "df.head(10)"
   ]
  },
  {
   "cell_type": "code",
   "execution_count": 169,
   "metadata": {},
   "outputs": [
    {
     "data": {
      "text/plain": [
       "(-0.49863108216718366, 0.6180393041082457, False)"
      ]
     },
     "execution_count": 169,
     "metadata": {},
     "output_type": "execute_result"
    }
   ],
   "source": [
    "ctrl = df[df['ab'] == 'control']['converted'].count()\n",
    "cc = int(df[df['ab'] == 'control']['converted'].sum()*1.01)\n",
    "tment = df[df['ab'] == 'treatment']['converted'].count()\n",
    "tmentc = df[df['ab'] == 'treatment']['converted'].sum()\n",
    "z_test(cc/ctrl,tmentc/tment,ctrl,tment)"
   ]
  },
  {
   "cell_type": "code",
   "execution_count": 170,
   "metadata": {},
   "outputs": [],
   "source": [
    "import datetime\n",
    "df['DT'] = np.array([int(datetime.datetime.fromtimestamp(t).strftime('%H')) - 16 if (int(datetime.datetime.fromtimestamp(t).strftime('%H')) - 16) >= 0 else int(datetime.datetime.fromtimestamp(t).strftime('%H')) + 9 for t in df['ts']])"
   ]
  },
  {
   "cell_type": "code",
   "execution_count": 171,
   "metadata": {},
   "outputs": [],
   "source": [
    "t, p = [], []\n",
    "\n",
    "for time in range(24):\n",
    "    ctrl = df[(df['ab'] == 'control') & (df['DT'] <= time)]['converted'].count()\n",
    "    cc = df[(df['ab'] == 'control') & (df['DT'] <= time)]['converted'].sum()*1.01\n",
    "    tment = df[(df['ab'] == 'treatment') & (df['DT'] <= time)]['converted'].count()\n",
    "    tmentc = df[(df['ab'] == 'treatment') & (df['DT'] <= time)]['converted'].sum()\n",
    "    _, pv, _ = z_test(cc/ctrl,tmentc/tment,ctrl,tment)\n",
    "    t.append(time)\n",
    "    p.append(pv)"
   ]
  },
  {
   "cell_type": "code",
   "execution_count": 172,
   "metadata": {},
   "outputs": [],
   "source": [
    "pchart = pd.DataFrame([t,p]).T\n",
    "pchart.columns = ['t','p']"
   ]
  },
  {
   "cell_type": "code",
   "execution_count": 173,
   "metadata": {},
   "outputs": [
    {
     "data": {
      "image/png": "[encoded data removed]",
      "text/plain": [
       "<matplotlib.figure.Figure at 0x7f338af99780>"
      ]
     },
     "metadata": {},
     "output_type": "display_data"
    }
   ],
   "source": [
    "pchart['p'].plot()\n",
    "plt.show()"
   ]
  },
  {
   "cell_type": "code",
   "execution_count": 174,
   "metadata": {},
   "outputs": [],
   "source": [
    "cty = pd.read_csv('data/country.csv')\n",
    "new = df.merge(cty, on = 'user_id', how = 'left')"
   ]
  },
  {
   "cell_type": "code",
   "execution_count": 175,
   "metadata": {},
   "outputs": [
    {
     "data": {
      "text/plain": [
       "country  ab       \n",
       "CA       control      0.101217\n",
       "         treatment    0.094323\n",
       "UK       control      0.102032\n",
       "         treatment    0.096051\n",
       "US       control      0.098433\n",
       "         treatment    0.097283\n",
       "Name: converted, dtype: float64"
      ]
     },
     "execution_count": 175,
     "metadata": {},
     "output_type": "execute_result"
    }
   ],
   "source": [
    "new.groupby(['country','ab']).sum()['converted']/ new.groupby(['country','ab']).count()['converted']"
   ]
  },
  {
   "cell_type": "code",
   "execution_count": null,
   "metadata": {
    "collapsed": true
   },
   "outputs": [],
   "source": []
  }
 ],
 "metadata": {
  "kernelspec": {
   "display_name": "Python 3",
   "language": "python",
   "name": "python3"
  },
  "language_info": {
   "codemirror_mode": {
    "name": "ipython",
    "version": 3
   },
   "file_extension": ".py",
   "mimetype": "text/x-python",
   "name": "python",
   "nbconvert_exporter": "python",
   "pygments_lexer": "ipython3",
   "version": "3.6.3"
  }
 },
 "nbformat": 4,
 "nbformat_minor": 2
}
