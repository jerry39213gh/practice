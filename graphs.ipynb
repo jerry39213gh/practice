{
 "cells": [
  {
   "cell_type": "code",
   "execution_count": 4,
   "metadata": {
    "collapsed": true
   },
   "outputs": [],
   "source": [
    "from src.load_imdb_data import load_imdb_data\n",
    "actors, movies = load_imdb_data('data/example_edges.tsv')"
   ]
  },
  {
   "cell_type": "code",
   "execution_count": 5,
   "metadata": {},
   "outputs": [
    {
     "data": {
      "text/plain": [
       "defaultdict(set,\n",
       "            {'A': {'m1', 'm2'},\n",
       "             'B': {'m1', 'm2', 'm3'},\n",
       "             'C': {'m1'},\n",
       "             'D': {'m3', 'm6'},\n",
       "             'E': {'m6'},\n",
       "             'F': {'m4'},\n",
       "             'G': {'m4'},\n",
       "             'H': {'m5'},\n",
       "             'I': {'m2', 'm5'}})"
      ]
     },
     "execution_count": 5,
     "metadata": {},
     "output_type": "execute_result"
    }
   ],
   "source": [
    "def shortest_path(start, end):\n",
    "    Q, d = [], dict()\n",
    "    \n",
    "    set path[start] = [start]\n",
    "    add start to Q\n",
    "    while Q is not empty:\n",
    "        take node off Q\n",
    "        if node is end: return path[node]. we're done!\n",
    "        for each neighbor of node:\n",
    "            if neighbor is in path: skip neighbor\n",
    "            set path[neighbor] = path[node] + [neighbor]\n",
    "            add neighbor to Q\n",
    "\n",
    "    return None. We finished the search and no path was found."
   ]
  },
  {
   "cell_type": "code",
   "execution_count": 6,
   "metadata": {},
   "outputs": [
    {
     "data": {
      "text/plain": [
       "defaultdict(set,\n",
       "            {'A': {'m1', 'm2'},\n",
       "             'B': {'m1', 'm2', 'm3'},\n",
       "             'C': {'m1'},\n",
       "             'D': {'m3', 'm6'},\n",
       "             'E': {'m6'},\n",
       "             'F': {'m4'},\n",
       "             'G': {'m4'},\n",
       "             'H': {'m5'},\n",
       "             'I': {'m2', 'm5'}})"
      ]
     },
     "execution_count": 6,
     "metadata": {},
     "output_type": "execute_result"
    }
   ],
   "source": [
    "actors"
   ]
  },
  {
   "cell_type": "code",
   "execution_count": 7,
   "metadata": {},
   "outputs": [
    {
     "data": {
      "text/plain": [
       "defaultdict(set,\n",
       "            {'m1': {'A', 'B', 'C'},\n",
       "             'm2': {'A', 'B', 'I'},\n",
       "             'm3': {'B', 'D'},\n",
       "             'm4': {'F', 'G'},\n",
       "             'm5': {'H', 'I'},\n",
       "             'm6': {'D', 'E'}})"
      ]
     },
     "execution_count": 7,
     "metadata": {},
     "output_type": "execute_result"
    }
   ],
   "source": [
    "movies"
   ]
  },
  {
   "cell_type": "code",
   "execution_count": null,
   "metadata": {
    "collapsed": true
   },
   "outputs": [],
   "source": []
  }
 ],
 "metadata": {
  "kernelspec": {
   "display_name": "Python 3",
   "language": "python",
   "name": "python3"
  },
  "language_info": {
   "codemirror_mode": {
    "name": "ipython",
    "version": 3
   },
   "file_extension": ".py",
   "mimetype": "text/x-python",
   "name": "python",
   "nbconvert_exporter": "python",
   "pygments_lexer": "ipython3",
   "version": "3.6.3"
  }
 },
 "nbformat": 4,
 "nbformat_minor": 2
}
